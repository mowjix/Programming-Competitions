{
 "cells": [
  {
   "cell_type": "markdown",
   "metadata": {},
   "source": [
    "# 11847 - Cut the Silver Bar\n",
    "\n",
    "  A creditor wants a daily payment during n days from a poor miner in debt. Since the miner can not\n",
    "pay his daily obligation, he has negotiated with the creditor an alternative way, convenient for both\n",
    "parties, to pay his debt: the miner will give an equivalent of a 1micro (= 0:001mm) long piece of a silver bar as a guarantee towards the debt. The silver bar owned by the poor miner is initially nano*micro units long.\n",
    "\n",
    "  By the end of n days the miner would not have any more silver to give and the creditor would have\n",
    "received an amount of silver equivalent to that of the silver bar initially owned by the miner. By then, the miner expected to have enough money to pay the debt at the next day so that he would have back all his silver.\n",
    "\n",
    "With this negotiation in mind, the miner has realized that it was not necessary to cut exactly 1micro\n",
    "silver piece from the bar everyday. For instance, at the third day he could give the creditor a 3nano silver piece, taking back the equivalent of a 2micro silver piece which the creditor should already have.\n",
    "Since cutting the bar was rather laborious and time consuming, the miner wanted to minimize the\n",
    "number of cuts he needed to perform on his silver bar in order to make the daily silver deposits during\n",
    "the n days. Could you help him?\n",
    "\n",
    "---\n",
    "\n",
    "### Input\n",
    "Input consists of several cases, each one defined by a line containing a positive integer number n\n",
    "(representing the length in micras of the silver bar and the number of days of the amortization period).\n",
    "You may assume that 0 < n < 20000.\n",
    "The end of the input is recognized by a line with 0.\n",
    "\n",
    "### Output\n",
    "For each given case, output one line with a single number: the minimum number of cuts in which to\n",
    "cut a silver bar of length nano*micro to guarantee the debt during n days.\n",
    "\n",
    "#### Sample input\n",
    "1\n",
    "\n",
    "5\n",
    "\n",
    "3\n",
    "\n",
    "0\n",
    "\n",
    "#### Sample Output\n",
    "0\n",
    "\n",
    "2\n",
    "\n",
    "1"
   ]
  },
  {
   "cell_type": "code",
   "execution_count": 2,
   "metadata": {},
   "outputs": [
    {
     "name": "stdout",
     "output_type": "stream",
     "text": [
      "1\n",
      "0\n",
      "5\n",
      "2\n",
      "3\n",
      "1\n",
      "0\n"
     ]
    }
   ],
   "source": [
    "from math import log2\n",
    "from sys import stdin, stdout\n",
    "\n",
    "while 1:\n",
    "    n = int(input())\n",
    "    \n",
    "    if n == 0:\n",
    "        break\n",
    "    \n",
    "    stdout.write(\"{}\\n\".format(int(log2(n))))"
   ]
  },
  {
   "cell_type": "code",
   "execution_count": null,
   "metadata": {},
   "outputs": [],
   "source": []
  }
 ],
 "metadata": {
  "kernelspec": {
   "display_name": "Python 3",
   "language": "python",
   "name": "python3"
  },
  "language_info": {
   "codemirror_mode": {
    "name": "ipython",
    "version": 3
   },
   "file_extension": ".py",
   "mimetype": "text/x-python",
   "name": "python",
   "nbconvert_exporter": "python",
   "pygments_lexer": "ipython3",
   "version": "3.7.4"
  }
 },
 "nbformat": 4,
 "nbformat_minor": 2
}
