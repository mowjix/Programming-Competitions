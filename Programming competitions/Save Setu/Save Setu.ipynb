{
 "cells": [
  {
   "cell_type": "markdown",
   "metadata": {},
   "source": [
    "# 12403 - Save Setu\n",
    "\n",
    "Rahaduzzaman Setu, (Roll - 12) of 13th batch, CSE, University of Dhaka is tremendously ill. He\n",
    "has been suffering from Multi Drug Resistant TB for a long time. Now, his left lung is damaged and\n",
    "beyond repair. No medicine is working on his body to ease his pain. It is urgent to operate on his\n",
    "left lung so that the disease doesn’t spread to his right lung. It can either be removed through surgery or transplanted. He comes from a modest family and it is difficult and impossible for them to bare his medical expenses anymore. Because of the money needed (12 million BDT) to transplant, it is his family’s decision to go with the surgery (3 million BDT). We must help them financially by raising\n",
    "money. But we must not be confined with that amount only to do the surgery. We must go for the\n",
    "Transplant. Our target will be to collect as much as possible to help our friend.\n",
    "If anyone wants to contribute now, please send me your contribution or contact me. Please contribute\n",
    "as much as you can to save a life that you saw every week for the first two years of your University life.Please contribute as per your abilities. Our combined effort may save a life.\n",
    "For more information, consult the link below.\n",
    "http://supportsetu.com/\n",
    "However, in this problem, you have to build a software that can calculate the donations. Initially\n",
    "the total amount of money is 0 and in each time, two types of operations will be there.\n",
    "- 1) ‘donate K’ (100 < K < 105), then you have to add K to the account.\n",
    "- 2) ‘report’, report all the money currently in the account.\n",
    "\n",
    "---\n",
    "\n",
    "### Input\n",
    "The first line of input will contain T (1 < T < 100) denoting the number of operations. Then there will\n",
    "be T lines each containing two types of operations as given. You may assume that the input follows\n",
    "the restrictions above.\n",
    "\n",
    "### Output\n",
    "For each ‘report’ operation, print the total amount of money in the account.\n",
    "\n",
    "#### Sample Input\n",
    "4\n",
    "\n",
    "donate 1000\n",
    "\n",
    "report\n",
    "\n",
    "donate 500\n",
    "\n",
    "report\n",
    "\n",
    "\n",
    "##### Sample Output\n",
    "1000\n",
    "\n",
    "1500"
   ]
  },
  {
   "cell_type": "code",
   "execution_count": null,
   "metadata": {},
   "outputs": [
    {
     "name": "stdout",
     "output_type": "stream",
     "text": [
      "4\n",
      "donate 1000  report  donate 500  report\n",
      "report\n",
      "1000\n"
     ]
    }
   ],
   "source": [
    "cmd_nums = int(input())\n",
    "f = 0\n",
    "for i in range(0,cmd_nums):\n",
    "    cmd_num = str(input()).split()\n",
    "    if len(cmd_num) == 1:\n",
    "        print(f)\n",
    "    else:\n",
    "        f += int(cmd_num[1])"
   ]
  },
  {
   "cell_type": "code",
   "execution_count": null,
   "metadata": {},
   "outputs": [],
   "source": []
  }
 ],
 "metadata": {
  "kernelspec": {
   "display_name": "Python 3",
   "language": "python",
   "name": "python3"
  },
  "language_info": {
   "codemirror_mode": {
    "name": "ipython",
    "version": 3
   },
   "file_extension": ".py",
   "mimetype": "text/x-python",
   "name": "python",
   "nbconvert_exporter": "python",
   "pygments_lexer": "ipython3",
   "version": "3.7.4"
  }
 },
 "nbformat": 4,
 "nbformat_minor": 2
}
