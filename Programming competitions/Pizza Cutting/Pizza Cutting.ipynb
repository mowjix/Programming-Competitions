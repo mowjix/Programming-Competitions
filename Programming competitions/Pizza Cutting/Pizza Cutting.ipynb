{
 "cells": [
  {
   "cell_type": "markdown",
   "metadata": {},
   "source": [
    "# 10079 - Pizza Cutting\n",
    "\n",
    "When someone calls Ivan lazy, he claims that it is his intelligence that helps him to be so. If his\n",
    "intelligence allows him to do something at less physical effort, why should he exert more? He also\n",
    "claims that he always uses his brain and tries to do some work at less effort; this is not his laziness,rather this is his intellectual smartness.\n",
    "\n",
    "\n",
    "<img src=\"Pizza Cutting.PNG\" height=200 />\n",
    "\n",
    "Once Ivan was asked to cut a pizza into seven pieces to distribute it among his friends. (Size of the pieces may not be the same. In fact, his piece will be larger than the others.) He thought a bit, and came to the conclusion that he can cut it into seven pieces by only three straight cuts through the pizza with a pizza knife. Accordingly, he cut the pizza in the following way (guess which one is Ivan’s piece):\n",
    "\n",
    "One of his friends, who never believed in Ivan’s smartness, was startled at this intelligence. He thought, if Ivan can do it, why can’t my computer? So he tried to do a similar (but not exactly as Ivan’s, for Ivan will criticize him for stealing his idea) job with his computer. He wrote a program that took the number of straight cuts one makes through the pizza, and output a number representing the\n",
    "maximum number of pizza pieces it will produce.\n",
    "\n",
    "Your job here is to write a similar program. It is ensured that Ivan’s friend won’t criticize you for\n",
    "doing the same job he did. \n",
    "\n",
    "---\n",
    "\n",
    "### Input\n",
    "The input file will contain a single integer N (0 <= N <= 210000000) in each line representing the number of straight line cuts one makes through the pizza. A negative number terminates the input.\n",
    "\n",
    "### Output\n",
    "Output the maximum number of pizza pieces the given number of cuts can produce. Each line should\n",
    "contain only one output integer without any leading or trailing space.\n",
    "\n",
    "#### Sample Input\n",
    "5\n",
    "\n",
    "10\n",
    "\n",
    "-100\n",
    "\n",
    "\n",
    "##### Sample Output\n",
    "16\n",
    "\n",
    "56"
   ]
  },
  {
   "cell_type": "code",
   "execution_count": 4,
   "metadata": {},
   "outputs": [
    {
     "name": "stdout",
     "output_type": "stream",
     "text": [
      "5\n",
      "16\n",
      "-100\n"
     ]
    }
   ],
   "source": [
    "while 1:\n",
    "    number = int(input())\n",
    "    if number < 0:\n",
    "        break\n",
    "    \n",
    "    print( ((number)*(number+1)) // 2 + 1)\n",
    "  "
   ]
  },
  {
   "cell_type": "code",
   "execution_count": null,
   "metadata": {},
   "outputs": [],
   "source": []
  }
 ],
 "metadata": {
  "kernelspec": {
   "display_name": "Python 3",
   "language": "python",
   "name": "python3"
  },
  "language_info": {
   "codemirror_mode": {
    "name": "ipython",
    "version": 3
   },
   "file_extension": ".py",
   "mimetype": "text/x-python",
   "name": "python",
   "nbconvert_exporter": "python",
   "pygments_lexer": "ipython3",
   "version": "3.7.4"
  }
 },
 "nbformat": 4,
 "nbformat_minor": 2
}
