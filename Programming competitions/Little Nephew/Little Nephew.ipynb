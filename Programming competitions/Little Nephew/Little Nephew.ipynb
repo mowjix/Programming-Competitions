{
 "cells": [
  {
   "cell_type": "markdown",
   "metadata": {},
   "source": [
    "# 12463 Little Nephew\n",
    "\n",
    "Your little nephew is 5 years old. He tells you he has a hats of different colors, b T-shirts of different colors, c pants of different colors, d pairs of socks of different colors and e pairs of shoes of different colors (you know how kids are). He is on that age where kids ask and ask questions all day long. He asked you in how many different ways he could possibly get dressed.\n",
    "Since he is just 5, sometimes he wears socks or shoes of different colors. For example, he might\n",
    "wear a red sock on his right foot and a blue sock on his left foot. We will consider two ways of dressing different if they differ in the color of the hat, the color of the T-shirt, the color of the pants, the color of the sock on the left foot, the color of the sock on the right foot, the color of the shoe on the left foot or the color of the shoe on the right foot.\n",
    "He’s clever enough to figure out which is the left shoe and which is the right shoe, so he’ll never\n",
    "put the wrong shoe on the wrong foot like you used to do. Also, he always wears a hat, a T-shirt, a\n",
    "pair of pants, a pair of socks and a pair of shoes (I guess someone told him it’s not good to go walking around there half-naked).\n",
    "Here’s an example. If he has one red hat, two T-shirts (one blue and one green), one pair of pants\n",
    "(black), two pairs of socks (one white pair and one orange pair) and two pairs of shoes (one brown pair\n",
    "and the other one yellow) then he can dress in 32 different ways. Here are some of the valid different\n",
    "ways how he can dress (the changes between consecutive ways in this list are shown in bold):\n",
    "\n",
    "- The red hat, the blue T-shirt, the black pants, a white sock on the left foot, a white sock on the right foot, a brown shoe on the left foot, a brown shoe on the right foot.\n",
    "\n",
    "- The red hat, the green T-shirt, the black pants, a white sock on the left foot, an orange sock on the right foot, a brown shoe on the left foot, a brown shoe on the right foot.\n",
    "\n",
    "- The red hat, the green T-shirt, the black pants, an orange sock on the left foot, a white sock on the right foot, a brown shoe on the left foot, a brown shoe on the right foot.\n",
    "\n",
    "- The red hat, the green T-shirt, the black pants, an orange sock on the left foot, a white sock on the right foot, a brown shoe on the left foot, a white shoe on the right foot.\n",
    "\n",
    "_Notice:_ that the only difference between the second and the third way is that he swapped the color of his left and right socks. These are two different ways of getting dressed according to the rules above. He said that if you wrote a program that could calculate this number he would stop asking questions!\n",
    "\n",
    "---\n",
    "\n",
    "### Input\n",
    "The input contains several test cases.\n",
    "Each test case is described by five integers a, b, c, d and e (1 <= a, b, c, d, e <= 20). These integers represent the values explained above and will be separated by one or more spaces.\n",
    "The last line of the input contains five ‘0’s and should not be processed.\n",
    "\n",
    "\n",
    "### Output\n",
    "For each test case, output the number of different ways in which the kid can get dressed. Output this\n",
    "number on a single line.\n",
    "\n",
    "\n",
    "#### Sample Input\n",
    "1 2 1 2 2\n",
    "\n",
    "1 1 1 1 1\n",
    "\n",
    "12 3 18 2 19\n",
    "\n",
    "3 4 16 1 4\n",
    "\n",
    "0 0 0 0 0\n",
    "#### Sample Output\n",
    "32\n",
    "\n",
    "1\n",
    "\n",
    "935712\n",
    "\n",
    "3072"
   ]
  },
  {
   "cell_type": "code",
   "execution_count": 1,
   "metadata": {},
   "outputs": [
    {
     "name": "stdout",
     "output_type": "stream",
     "text": [
      "1 2 1 2 2\n",
      "32\n",
      "0 0 0 0 0\n"
     ]
    }
   ],
   "source": [
    "while 1:\n",
    "    a, b, c, d, e = list(map(int, input().split()))\n",
    "    if a == b == c == d == e == 0:\n",
    "        break\n",
    "        \n",
    "    print(a*b*c*(d**2)*(e**2))"
   ]
  },
  {
   "cell_type": "code",
   "execution_count": null,
   "metadata": {},
   "outputs": [],
   "source": []
  }
 ],
 "metadata": {
  "kernelspec": {
   "display_name": "Python 3",
   "language": "python",
   "name": "python3"
  },
  "language_info": {
   "codemirror_mode": {
    "name": "ipython",
    "version": 3
   },
   "file_extension": ".py",
   "mimetype": "text/x-python",
   "name": "python",
   "nbconvert_exporter": "python",
   "pygments_lexer": "ipython3",
   "version": "3.7.4"
  }
 },
 "nbformat": 4,
 "nbformat_minor": 2
}
