{
 "cells": [
  {
   "cell_type": "markdown",
   "metadata": {},
   "source": [
    "# 11069 - A Graph Problem\n",
    "\n",
    "Given an undirected graph of the following form with n nodes, 1 <= n <= 76:\n",
    "\n",
    "<img src=\"graph.PNG\" width=500/>\n",
    "\n",
    "Your task is to calculate the number of subsets of nodes of the graph with the following properties:\n",
    "\n",
    "- no nodes in the subset should be connected\n",
    "- it shouldn’t be possible to add further nodes to the subset without violating the first condition\n",
    "\n",
    "\n",
    "For a graph with 5 nodes the number of subsets which fulfill the above conditions is 4. The subsets are {1,3,5},{2,4},{2,5},{1,4}.\n",
    "\n",
    "---\n",
    "\n",
    "### Input\n",
    "The input will consist of a sequence of numbers n, 1 <= n <= 76. Each number will be on a separate line. The input will be terminated by EOF.\n",
    "\n",
    "### Output\n",
    "Output the number of subsets as described above on a single line. The number of all subsets will be less than 2^31.\n",
    "\n",
    "#### Sample Input\n",
    "1\n",
    "\n",
    "2\n",
    "\n",
    "3\n",
    "\n",
    "4\n",
    "\n",
    "5\n",
    "\n",
    "30\n",
    "\n",
    "#### Sample Output\n",
    "1\n",
    "\n",
    "2\n",
    "\n",
    "2\n",
    "\n",
    "3\n",
    "\n",
    "4\n",
    "\n",
    "4410"
   ]
  },
  {
   "cell_type": "code",
   "execution_count": null,
   "metadata": {},
   "outputs": [
    {
     "name": "stdout",
     "output_type": "stream",
     "text": [
      "1\n",
      "1\n",
      "30\n",
      "4410\n",
      "0\n",
      "0\n"
     ]
    }
   ],
   "source": [
    "table = [0, 1, 2, 2]\n",
    "L = 77\n",
    "for i in range(0,L):\n",
    "    table.append(table[-2] + table[-3])\n",
    "\n",
    "while 1:\n",
    "    try:\n",
    "        n = int(input())\n",
    "        print(table[n])\n",
    "    except(EOFError):\n",
    "        break"
   ]
  },
  {
   "cell_type": "code",
   "execution_count": null,
   "metadata": {},
   "outputs": [],
   "source": []
  }
 ],
 "metadata": {
  "kernelspec": {
   "display_name": "Python 3",
   "language": "python",
   "name": "python3"
  },
  "language_info": {
   "codemirror_mode": {
    "name": "ipython",
    "version": 3
   },
   "file_extension": ".py",
   "mimetype": "text/x-python",
   "name": "python",
   "nbconvert_exporter": "python",
   "pygments_lexer": "ipython3",
   "version": "3.7.4"
  }
 },
 "nbformat": 4,
 "nbformat_minor": 2
}
